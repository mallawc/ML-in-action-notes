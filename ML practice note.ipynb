{
 "cells": [
  {
   "attachments": {},
   "cell_type": "markdown",
   "id": "aaf351c3",
   "metadata": {},
   "source": [
    "## K-近邻算法（kNN）\n",
    "\n",
    "**原理**：通过测量不同特征值之间距离的方法进行分类\n",
    "\n",
    "**优点**：精度高、对异常值不敏感、无数据输入假定\n",
    "**缺点**：计算复杂度高，空间复杂度高\n",
    "**适应数据**：数值型、标称型"
   ]
  },
  {
   "cell_type": "markdown",
   "id": "78c451aa",
   "metadata": {},
   "source": [
    "### 一、算法描述\n",
    "算法（K-近邻法）\n",
    "\n",
    "**输入**：训练数据集\n",
    "\n",
    "$$ T=\\{(x_1,y_1),(x_2,y_2),\\cdots,(x_N,y_N)\\} $$\n",
    "\n",
    "其中，$x_i\\in\\chi\\subseteq R^n$为实例的特征向量，$y_i\\in\\gamma=\\{c_1,c_2,\\cdots,c_K\\}$为实例的类别，$i=1,2,\\cdots.,N$；实例特征向量$x$\n",
    "\n",
    "**输出**：实例$x$所属的类$y$\n",
    "\n",
    "（1）根据给定的距离度量，在训练集$T$中找出与$x$最邻近的$k$个点，涵盖这$k$个点的$x$的邻域记作$N_k(x)$；\n",
    "\n",
    "（2）在$N_k(x)$中根据分类决策规则（如多数表决）决定$x$的类别$y$：\n",
    "\n",
    "$$y=\\underset{c_j}{argmax}\\sum_{x_i\\in N_k(x)}I(y_i=c_j),\\; i=1,2,\\cdots,N;\\; j=1,2,\\cdots,K \\;\\;\\;(\\star)$$\n",
    "\n",
    "式$(*)$中，$I$为指示函数，即当$y_i=c_j$时$I$为1，否则$I$为0.\n",
    "    $k$近邻法的特殊情况是$k=1$的情形，称为最近邻算法，对于输入的实例点（特征向量）$x$，最近邻法将训练数据集中与$x$最近邻点的类作为$x$的类.\n",
    "        \n",
    "根据算法可知，**k近邻主要的3个问题**：\n",
    "\n",
    "（1）度量距离的计算\n",
    "\n",
    "（2）计算出距离排序后选择k个点，k值如何确定\n",
    "\n",
    "（3）选出k个点后如何进行分类决策\n",
    "\n",
    "### 二、距离度量\n",
    "需要计算未知样本与各个训练样本的**距离**（实际上是反应两个实例点的相似程度）。\n",
    "\n",
    "设两个点$x_i=(x_i^{(1)},x_i^{(2)},\\cdots,x_i^{(n)}),x_j=(x_j^{(1)},x_j^{(2)},\\cdots,x_j^{(n)})$，n表示特征数，距离计算公式：\n",
    "\n",
    "$L_p(x_i,x_j)=(\\sum_{l=1}^{n}|x_i^{(l)}-x_j^{(l)}|^p)^\\frac{1}{p}$，其中$p\\geq1$\n",
    "\n",
    "①欧式距离（p=2）\n",
    "\n",
    "$L_2(x_i,x_j)=(\\sum_{l=1}^{n}|x_i^{(l)}-x_j^{(l)}|^2)^\\frac{1}{2}$\n",
    "\n",
    "②曼哈顿距离（p=1）\n",
    "\n",
    "$L_1(x_i,x_j)=\\sum_{l=1}^{n}|x_i^{(l)}-x_j^{(l)}|$\n",
    "\n",
    "③坐标距离最大值（p=∞）\n",
    "\n",
    "$L_∞(x_i,x_j)=\\max_l |x_i^{(l)}-x_j^{(l)}|$\n",
    "\n",
    "### 三、k值的选择\n",
    "近似误差与估计误差的区别：\n",
    "```\n",
    "近似误差可以理解为对训练集的训练误差，它只能体现对训练数据的拟合表现；\n",
    "估计误差可以理解为对测试集的测试误差，它可以体现对测试数据的拟合表现，也就是体现出泛化能力，因此对模型要求是估计误差越小越好。\n",
    "```\n",
    "如果k值过大，那么近似误差会增大，可能会减少估计误差单对预测也没什么效果。实际应用中，k值一般取一个比较小的数值，通过交叉验证法来选取最优的k值。\n",
    "\n",
    "### 四、分类决策规则\n",
    "一般是多数表决"
   ]
  },
  {
   "cell_type": "markdown",
   "id": "c0e15335",
   "metadata": {},
   "source": [
    "### 五、代码实现\n",
    "classify0函数的功能是使用k-近邻算法将每组数据划分到某个类中，伪代码如下：\n",
    "\n",
    "对未知类别属性的数据集中的每个点依次执行以下操作：\n",
    "\n",
    "（1）计算已知类别数据集中的点与当前点之间的距离；\n",
    "\n",
    "（2）按照距离递增次序排序；\n",
    "\n",
    "（3）选取与当前点距离最小的k个点；\n",
    "\n",
    "（4）确定前k个点所在类别的出现频率；\n",
    "\n",
    "（5）返回前k个点出现频率最高的类别作为当前点的预测分类。"
   ]
  },
  {
   "cell_type": "code",
   "execution_count": null,
   "id": "9f460226",
   "metadata": {},
   "outputs": [],
   "source": [
    "from numpy import *\n",
    "import operator\n",
    "\n",
    "# k近邻分类算法\n",
    "def classify0(inX, dataSet, labels, k):\n",
    "    '''\n",
    "      inX：用来分类的测试集\n",
    "      dataSet：用来训练的数据集\n",
    "      labels：用来训练的数据集的标签\n",
    "      k：k近邻的k值\n",
    "    '''\n",
    "    #欧式距离计算\n",
    "    dataSetSize = dataSet.shape[0]\n",
    "    diffMat = tile(inX, (dataSetSize,1)) - dataSet  # tile()：将矩阵inX重复，行方向上重复dataSetSize次，列方向上重复1次\n",
    "    sqDiffMat = diffMat**2\n",
    "    sqDistinces = sqDiffMat.sum(axis=1)  #行方向求和\n",
    "    distances = sqDistinces**0.5\n",
    "    sortedDistIndicies = distances.argsort() #将距离值进行排序，并返回索引值\n",
    "    \n",
    "    #选择距离最小的k个点，并统计k个点中各个类别的数目\n",
    "    classCount = {}\n",
    "    for i in range(k):\n",
    "        voteIlabel = labels[sortedDistIndicies[i]]\n",
    "        classCount[voteIlabel] = classCount.get(voteIlabel,0) + 1  #get(key,default)：若键key在字典中，返回key的值，否则返回默认值\n",
    "    \n",
    "    #排序，选择类别数目最多的所属类别\n",
    "    sortedClassCount = sorted(classCount.items(), key=operator.itemgetter(1), reverse=True)\n",
    "    \n",
    "    return sortedClassCount[0][0]\n",
    "\n",
    "\n",
    "#归一化数值\n",
    "def autoNorm(dataSet):\n",
    "    minVals = dataSet.min(0)\n",
    "    maxVals = dataSet.max(0)\n",
    "    ranges = maxVals - minVals\n",
    "    normDataSet = zeros(shape(dataSet))\n",
    "    m = dataSet.shape[0]  #获取数据行数\n",
    "    normDataSet = dataSet - tile(minVals, (m,1))\n",
    "    normDataSet = normDataSet/tile(ranges, (m,1))\n",
    "    return normDataSet, ranges, minVals\n",
    "\n",
    "\n",
    "#划分训练集/测试集数据进行测试\n",
    "def datingClassTest(datingDataMat, datingLabels):\n",
    "    hoRatio = 0.1  #测试集所占比例\n",
    "    normMat, ranges, minVals = autoNorm(datingDataMat)  #归一化处理\n",
    "    m = normMat.shape[0]\n",
    "    numTestVecs = int(m*hoRatio)  #得到测试集个数\n",
    "    errorCount = 0  #记录错误的个数\n",
    "    for i in range(numTestVecs):\n",
    "        classifierResult = classify0(normMat[i,:], normMat[numTestVecs:m,:], datingLabels[numTestVecs:m], 3)\n",
    "        print(\"预测结果：%d， 真实标签：%d\"%(classifierResult, datingLabels[i]))\n",
    "        if(classifierResult != datingLabels[i]):\n",
    "            errorCount += 1\n",
    "    print(\"测试集错误率为：%f\"%(errorCount/float(numTestVecs)))    "
   ]
  },
  {
   "cell_type": "markdown",
   "id": "ed635996",
   "metadata": {},
   "source": [
    "科学计算包：numpy\n",
    "运算符模块：operator"
   ]
  },
  {
   "cell_type": "markdown",
   "id": "e3214dbb",
   "metadata": {},
   "source": [
    "基本通用函数："
   ]
  },
  {
   "cell_type": "code",
   "execution_count": 3,
   "id": "443b37eb",
   "metadata": {},
   "outputs": [],
   "source": [
    "def createDataSet():\n",
    "    group = array([[1.0,1,1],[1.0,1.0],[0,0],[0,0.1]])\n",
    "    labels = ['A','A','B','B']\n",
    "    return group, labels"
   ]
  },
  {
   "cell_type": "code",
   "execution_count": 4,
   "id": "0ac538f0",
   "metadata": {},
   "outputs": [
    {
     "ename": "ModuleNotFoundError",
     "evalue": "No module named 'kNN'",
     "output_type": "error",
     "traceback": [
      "\u001b[1;31m---------------------------------------------------------------------------\u001b[0m",
      "\u001b[1;31mModuleNotFoundError\u001b[0m                       Traceback (most recent call last)",
      "Cell \u001b[1;32mIn[4], line 1\u001b[0m\n\u001b[1;32m----> 1\u001b[0m \u001b[38;5;28;01mimport\u001b[39;00m \u001b[38;5;21;01mkNN\u001b[39;00m\n",
      "\u001b[1;31mModuleNotFoundError\u001b[0m: No module named 'kNN'"
     ]
    }
   ],
   "source": [
    "import kNN"
   ]
  },
  {
   "cell_type": "code",
   "execution_count": null,
   "id": "647786a4",
   "metadata": {},
   "outputs": [],
   "source": []
  }
 ],
 "metadata": {
  "kernelspec": {
   "display_name": "Python 3 (ipykernel)",
   "language": "python",
   "name": "python3"
  },
  "language_info": {
   "codemirror_mode": {
    "name": "ipython",
    "version": 3
   },
   "file_extension": ".py",
   "mimetype": "text/x-python",
   "name": "python",
   "nbconvert_exporter": "python",
   "pygments_lexer": "ipython3",
   "version": "3.10.9"
  }
 },
 "nbformat": 4,
 "nbformat_minor": 5
}
