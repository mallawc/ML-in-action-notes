{
 "cells": [
  {
   "cell_type": "markdown",
   "id": "b5e0eb6b",
   "metadata": {},
   "source": [
    "## Decision Tree\n",
    "\n",
    "\n",
    "决策树是一种**预测模型**，代表的是对象（特征）属性与对象值之间的一种映射关系。树中每个节点表示某个对象，而每个分叉路径则代表某个可能的属性值，而每个叶节点则对应从根节点到该叶节点所经历的路径所表示的对象的值。\n",
    "\n",
    "从数据产生决策树的ML技术叫做“决策树学习”，目的是从训练数据集种归纳出一组分类规则.\n",
    "\n",
    "### 重要概念\n",
    "决策树是ML中非常重要的模型。人类做决策的通用思路是：**分而治之**，分而治之的逻辑可以表示为一棵决策树：\n",
    "\n",
    "**内部结点**：除了叶子结点的节点，也称决策结点。每个“内部结点”对应某个属性上的“测试”（test）--> 寻找一个“划分”属性（feature）\n",
    "\n",
    "**分支（branch）**：可以到达另一个内部结点或叶子结点，每个分支对应于该测试的一种可能结果（即该属性的某个取值）--> 特征值（feat_vals）\n",
    "\n",
    "**叶子结点**：每个“叶子结点”对应一个“预测结果”--> 标签（label）\n",
    "\n",
    "<mark>**标签**：（label）类别标记、判定结果，若测试数据集的标签是**二元**的，即yes或no，1或0...，那么构建的决策树是二叉树</mark>\n",
    "\n",
    "#### 基本流程：\n",
    "决策树是一个由根到叶的**递归过程**，在每一个中间结点寻找划分属性，递归重要的是设置**停止条件**：\n",
    "\n",
    "（1）当前结点包含的样本属于同一类别，无需划分；\n",
    "\n",
    "（2）当前属性集为空，或是所有样本在所有属性上取值相同无法划分，简单理解就是当分到这一节点时，所有的属性特征都用完了，没有特征可用了，就根据label数量多的给这一节点打标签使其变成叶节点（其实是在用样本出现的后验概率做先验概率）；\n",
    "\n",
    "（3）当前结点包含的样本集合为空，不能划分。这种情况出现是因为该样本数据缺少这个属性取值，根据父结点的label情况为该结点打标记（其实是在用父结点出现的后验概率做该结点的先验概率）。\n",
    "\n",
    "\n",
    "#### 目标：\n",
    "构造的算法能够读取数据集合，构建出一棵决策树。由于决策树很多任务都是为了数据中所蕴含的知识信息，因此决策树可以使用不熟悉的数据集合，并从中提取出一系列规则，ML算法最终将使用这些规则。\n",
    "\n",
    "\n",
    "### 决策树ML算法构建流程：\n",
    "（1）**收集数据**：可以用任何方法\n",
    "\n",
    "（2）**准备数据**：树构造算法只适用于标称型数据（在有限的数据中取，结果只有y或n，一般用于分类），因此数值型数据必须离散化\n",
    "\n",
    "（3）**分析数据**：可以使用任何方法，构造树完成之后，应检查图形是否符合预期\n",
    "\n",
    "（4）**训练算法**：构造树的数据结构\n",
    "\n",
    "（5）**测试算法**：使用经验树计算错误率\n",
    "\n",
    "（6）**使用算法**：可适用于任何监督学习算法，而使用决策树可以更好地理解数据的内在含义!\n",
    "\n",
    "### 决策树的构造\n",
    "\n",
    "#### 1、（关键）讨论数学上如何使用*信息论*划分属性：\n",
    "\n",
    "##### 属性划分（split or test）：\n",
    "自根至叶的递归过程，在每个内部结点寻找一个“划分”属性\n",
    "\n",
    "每次划分数据集时只选取一个特征属性，如果训练集中存在多个特征，第一次选择哪个特征作为划分的参考属性？事实上**决定性的特征或属性**能划分出最好的结果，所以必须**评估每个特征**。完成评估测试后，原始数据集就被划分为几个数据子集，并分布在第一个决策点的所有分支上。**若某个分支下的所有数据都属于同一类型（用类别标签判断），则说明当前已经正确划分数据分类，无需进一步对数据集进行分割；若数据子集内的数据不属于同一类型，则需要重复划分数据子集的过程（是一个递归过程），直到所有具有相同类型的数据均在一个数据子集内.**\n",
    "\n",
    "##### 递归过程的三种停机条件：\n",
    "(1) 当前结点包含的样本全属于同一类别\n",
    "(2) 当前属性集为空（属性都用完了），或是所有样本在所有属性上取值相同，无法划分（利用当前结点的后验分布：通过多数表决确定结果）\n",
    "(3) 当前结点包含的样本集合为空，不能划分（根据父节点多数表决，将父节点样本分布作为当前结点的先验分布）\n",
    "\n",
    "##### 算法：\n",
    "\n",
    "![20230715171700.png](./pic/20230715171700.png)\n",
    "\n",
    "属性划分过程由创建分支的递归函数**createBranch**完成：\n",
    "```cpp\n",
    "if so return <类别标签>;\n",
    "else\n",
    "    寻找划分数据集的最好特征\n",
    "    划分数据集\n",
    "    创建分支节点\n",
    "        for 每个划分的子集\n",
    "            调用函数createBranch()并增加返回结果到分支节点中\n",
    "    return 分支节点\n",
    "```\n",
    "实际上我们使用**ID3算法**划分数据集，该算法使用了“信息增益”作为划分属性的标准。每次划分数据集时我们只选取一个特征属性。如果训练集中存在20个特征，**第一次应该选择哪个特征作为划分的参考属性？** 所以必须使用量化的方法（香农熵）判断如何划分数据.\n",
    "\n",
    "<mark>**划分数据集的最大原则：将无序的数据变得更加有序**.</mark>组织杂乱数据的一种方法是：使用信息论度量信息(信息论是决策树的数学基础).\n",
    "\n",
    "划分数据集前后信息发生的变化称为“**信息增益**”（information gain），通过计算每个特征值划分数据集后获得的信息增益，<mark>**增益最高的特征就是最好的选择**</mark>.在决策树学习中，信息增益是特征选择的一个重要指标，它定义为一个特征能够为分类系统带来多少信息，信息越多，说明特征越重要.\n",
    "\n",
    "##### 1.1、熵（Entropy）\n",
    "信息熵是度量样本集合“纯度”最常用的一种指标，假定当前样本集合$D$中第$k$类样本所占的比例为$p_k$，则$D$的信息熵定义为：\n",
    "\n",
    "$$Ent(D)=-\\sum_{k=1}^{|y|}p_k\\log_2{p_k}$$\n",
    "\n",
    "计算熵时约定：若$p=0$，则$p\\log_{2}p=0$\n",
    "\n",
    "$Ent(D)$的最小值为0，最大值为$\\log_{2}|y|$\n",
    "\n",
    "$Ent(D)$的值越小，则$D$的纯度越高（说明还需要$Ent(D)$的信息量才能把D分干净）。**最终目的是**：使用最少的信息将数据分干净.\n",
    "\n",
    "##### 1.2、信息增益（Information gain）\n",
    "信息增益直接以信息熵为基础，计算当前计算当前划分对信息熵所造成的变化（信息增益被用于id3算法划分属性的标准）\n",
    "\n",
    "离散属性a的取值：${a^1,a^2,\\cdots,a^V,}$\n",
    "\n",
    "$D^v$：D中在a熵取值=$a^v$的样本集合\n",
    "\n",
    "以属性a对数据集D进行划分所获得的信息增益为：\n",
    "\n",
    "$$Gain(D,a)=Ent(D)-\\sum_{v=1}^{V}{\\frac{|D^v|}{|D|}Ent(D^v)}$$\n",
    "\n",
    "$Ent(D)$：划分前的信息熵\n",
    "\n",
    "$\\frac{|D^v|}{|D|}$：第v个分支的权重，样本越多越重要\n",
    "\n",
    "$\\sum_{v=1}^{V}{\\frac{D^v}{D}Ent(D^v)}$：划分后的信息熵\n",
    "\n",
    "##### 1.3、信息增益率\n",
    "分析可知，信息增益对可取值数目较多的属性有所偏好\n",
    "有明显弱点，例如：考虑将“编号”作为一个属性，得到每个结点里面只有唯一一个样本，那一定是干净的，增益也是最大的<mark>（对分支多的划分有偏好）</mark>，但是这样的树泛化能力太差了。（泛化：能很好适用于unseen instance）。改良方法是使用增益率（gain ratio）\n",
    "\n",
    "$$Gain\\_ratio(D,a)=\\frac{Gain(D,a)}{IV(a)}$$\n",
    "\n",
    "其中：\n",
    "$$IV(a)=-\\sum_{v=1}^{V}\\frac{|D^v|}{|D|}\\log_{2}\\frac{|D^v|}{|D|}$$\n",
    "\n",
    "\\*我们希望增益越大越好，分支越少越好，所以Gain_Ratio很好地表达了这种期望\n",
    "增益高和分支少两者如何权衡？找到折衷方法固然会得到一个最优的决策树，但是事实上没有办法找到这样理想的决策树，所以在c4.5算法中提出了解决方法：\n",
    "\n",
    "**启发式**：先从候选划分属性中找出信息增益高于平均水平的，再从中选取增益率最高的\n",
    "\n",
    "增益率其实使用了**规范化（normalization）**，把不可直接比较的东西变得可比（如这里的增益在没有考虑分支数量多少的情况下是不能够直接比较的，所以引入分支使得规范化）。规范化是ML、data science中的基本操作。\n",
    "\n",
    "归一化是规范化的特殊形式，比较的双方控制到量纲为0到1\n",
    "\n",
    "##### 1.4、其他划分方法：基尼系数\n",
    "CART算法中使用。与熵一样，基尼系数表征的也是事件的不确定性，将熵定义式中的“$-\\log_{2}p_i$”替换为 “$1-p_i$”就是基尼系数.\n",
    "\n",
    "$$Gini(p)=\\sum_{i=1}^{n}p_i(1-p_i)$$\n",
    "\n",
    "变形：\n",
    "\n",
    "$$Gini(p)=\\sum_{i=1}^{n}(p_i-p_i^2)=1-\\sum_{i=1}^{n}p_i^2$$\n",
    "\n",
    "\\*基尼不纯度（Gini impurity）是另一个度量集合无序程度的方法，简单说就是从一个数据集中随机选取子项，度量其被错误分类到其他分组里概率.\n",
    "\n",
    "#### 2、编写代码将理论应用到具体的数据集上：\n",
    "计算给定数据集的信息熵：$n$为分类条目\n",
    "\n",
    "$$H(p)=-\\sum_{i=1}^{n}p_i\\log_2{p_i}$$\n",
    "\n",
    "\\***可以看到信息熵计算和特征值无关**"
   ]
  },
  {
   "cell_type": "code",
   "execution_count": 5,
   "id": "16bd6d2d",
   "metadata": {},
   "outputs": [],
   "source": [
    "from math import log\n",
    "\n",
    "def calcShannonEnt(dataSet):\n",
    "    numEntries = len(dataSet)\n",
    "    labelCounts = {}\n",
    "    # 统计每组特征向量\n",
    "    for featVec in dataSet:\n",
    "        currentLabel = featVec[-1]\n",
    "        # 如果标签没有放入统计次数的字典，添加进去\n",
    "        if currentLabel not in labelCounts.keys():\n",
    "            labelCounts[currentLabel] = 0\n",
    "        labelCounts[currentLabel] += 1\n",
    "    shannonEnt = 0.0\n",
    "    for key in labelCounts:\n",
    "        prob = float(labelCounts[key])/numEntries\n",
    "        shannonEnt -= prob * log(prob,2)\n",
    "    return shannonEnt"
   ]
  },
  {
   "cell_type": "markdown",
   "id": "a9c1ca46",
   "metadata": {},
   "source": [
    "##### 示例：\n",
    "假设海洋生物数据表：\n",
    "|  |不浮出水面是否可以生存   | 是否有脚蹼  |  属于鱼类 |\n",
    "| :----: | :----:  | :----:  | :----:  |\n",
    "| 1  | 是 | 是 | 是 |\n",
    "| 2  | 是 | 是 | 是 |\n",
    "| 3  | 是 | 否 | 否 |\n",
    "| 4  | 否 | 是 | 否 |\n",
    "| 5  | 否 | 是 | 否 |\n",
    "\n",
    "利用createDataSet函数得到表所示的简单鱼鉴定数据集："
   ]
  },
  {
   "cell_type": "code",
   "execution_count": 6,
   "id": "a2d4a4dd",
   "metadata": {},
   "outputs": [],
   "source": [
    "def createDataSet():\n",
    "    dataSet = [[1, 1,'yes'],\n",
    "            [1, 1, 'yes'],\n",
    "            [1, 0, 'no'],\n",
    "            [0, 1, 'no'],\n",
    "            [0, 1, 'no']]\n",
    "    #分类属性（给定特征）\n",
    "    feats = ['no surfacing','filppers']\n",
    "    #返回数据集和分类属性\n",
    "    return dataSet, feats"
   ]
  },
  {
   "cell_type": "code",
   "execution_count": 7,
   "id": "40318178",
   "metadata": {
    "scrolled": true
   },
   "outputs": [
    {
     "name": "stdout",
     "output_type": "stream",
     "text": [
      "[[1, 1, 'yes'], [1, 1, 'yes'], [1, 0, 'no'], [0, 1, 'no'], [0, 1, 'no']]\n"
     ]
    },
    {
     "data": {
      "text/plain": [
       "0.9709505944546686"
      ]
     },
     "execution_count": 7,
     "metadata": {},
     "output_type": "execute_result"
    }
   ],
   "source": [
    "myDat, labels = createDataSet()\n",
    "print(myDat)\n",
    "calcShannonEnt(myDat)"
   ]
  },
  {
   "cell_type": "markdown",
   "id": "f705cafd",
   "metadata": {},
   "source": [
    "**Labels**: 'yes','no'\n",
    "\n",
    "$p_{yes}=\\frac{2}{5}\\space\\space p_{no}=\\frac{3}{5}$\n",
    "\n",
    "实际计算：$H=-\\frac{2}{5}\\log_2{(\\frac{2}{5})}-\\frac{3}{5}\\log_2{(\\frac{3}{5})}=0.9709505944546686\\dots$"
   ]
  },
  {
   "cell_type": "markdown",
   "id": "2317ee02",
   "metadata": {},
   "source": [
    "**混合的数据越多，熵越高**。尝试向数据集中添加更多的分类（名为maybe的类），观察熵的变化："
   ]
  },
  {
   "cell_type": "code",
   "execution_count": 8,
   "id": "8c6f36bf",
   "metadata": {},
   "outputs": [
    {
     "name": "stdout",
     "output_type": "stream",
     "text": [
      "[[1, 1, 'maybe'], [1, 1, 'yes'], [1, 0, 'no'], [0, 1, 'no'], [0, 1, 'no']]\n"
     ]
    },
    {
     "data": {
      "text/plain": [
       "1.3709505944546687"
      ]
     },
     "execution_count": 8,
     "metadata": {},
     "output_type": "execute_result"
    }
   ],
   "source": [
    "myDat[0][-1] = 'maybe'\n",
    "print(myDat)\n",
    "calcShannonEnt(myDat)"
   ]
  },
  {
   "cell_type": "markdown",
   "id": "639edc98",
   "metadata": {},
   "source": [
    "完成使用Shannon熵度量数据集的无序程度后，我们的分类器已经能够在划分数据集后，判断当前划分方法是否正确（可以想象为一个分布在二维空间的数据散点图，需要在数据之间划一道线，将其分成两部分，划得好不好已经有了判断方法了）.\n",
    "\n",
    "**splitDataSet函数**定义了：在给定特征后划分数据集的操作。其中使用了3个输入参数：（1）待划分的数据集；（2）划分数据集的特征；（3）特征的返回值。"
   ]
  },
  {
   "cell_type": "code",
   "execution_count": 9,
   "id": "05c6ce9c",
   "metadata": {},
   "outputs": [],
   "source": [
    "# 按照给定特征划分数据集：\n",
    "def splitDataSet(dataSet, axis, value):\n",
    "    # 创建返回的数据集列表，避免修改原始数据集\n",
    "    retDataSet = []\n",
    "    for featVec in dataSet:\n",
    "        if featVec[axis] == value:\n",
    "            reducedFeatVec = featVec[:axis]    # 去掉axis特征\n",
    "            reducedFeatVec.extend(featVec[axis+1:])    # 将符合条件的添加到返回的列表\n",
    "            retDataSet.append(reducedFeatVec)\n",
    "            \n",
    "    # 返回划分后的数据集\n",
    "    return retDataSet"
   ]
  },
  {
   "cell_type": "markdown",
   "id": "66b670da",
   "metadata": {},
   "source": [
    "选择最好的数据集划分方式："
   ]
  },
  {
   "cell_type": "code",
   "execution_count": 10,
   "id": "dab1ace7",
   "metadata": {},
   "outputs": [],
   "source": [
    "def chooseBestFeatureToSplit(dataSet):\n",
    "    numFeatures = len(dataSet[0])-1\n",
    "    baseEntropy = calcShannonEnt(dataSet)\n",
    "    bestInfoGain = 0.0; \n",
    "    bestFeature = -1\n",
    "    \n",
    "    for i in range(numFeatures):\n",
    "        # 创建唯一的分类标签列表\n",
    "        featList = [example[i] for example in dataSet]\n",
    "        uniqueVals = set(featList)\n",
    "        newEntropy = 0.0\n",
    "        \n",
    "        # 循环计算每种划分方式的信息熵\n",
    "        for value in uniqueVals:\n",
    "            subDataSet = splitDataSet(dataSet, i, value)\n",
    "            prob = len(subDataSet)/float(len(dataSet))\n",
    "            newEntropy += prob * calcShannonEnt(subDataSet)\n",
    "        infoGain = baseEntropy -newEntropy\n",
    "        \n",
    "        # 计算最好的信息增益，找到最好的特征划分方式\n",
    "        if (infoGain > bestInfoGain):\n",
    "            bestInfoGain = infoGain\n",
    "            bestFeature = i  # 返回最好特征划分的索引值\n",
    "    print(\"before dataset:\\n\",dataSet)\n",
    "    print(\"after dataset:\\n\",subDataSet)\n",
    "    return bestFeature"
   ]
  },
  {
   "cell_type": "code",
   "execution_count": 11,
   "id": "405f5940",
   "metadata": {},
   "outputs": [
    {
     "name": "stdout",
     "output_type": "stream",
     "text": [
      "before dataset:\n",
      " [[1, 1, 'maybe'], [1, 1, 'yes'], [1, 0, 'no'], [0, 1, 'no'], [0, 1, 'no']]\n",
      "after dataset:\n",
      " [[1, 'maybe'], [1, 'yes'], [0, 'no'], [0, 'no']]\n"
     ]
    },
    {
     "data": {
      "text/plain": [
       "0"
      ]
     },
     "execution_count": 11,
     "metadata": {},
     "output_type": "execute_result"
    }
   ],
   "source": [
    "chooseBestFeatureToSplit(myDat)"
   ]
  },
  {
   "cell_type": "markdown",
   "id": "414294e0",
   "metadata": {},
   "source": [
    "示例：\n",
    "\n",
    "特征B包含的所有特征值存入featlist，通过python内置的set()合并相同数值：\n",
    "```py\n",
    "featlist=(1,1,0,1,1) -> uniqueVals=(1,0)\n",
    "```\n",
    "当选择以特征值“1”划分时：\n",
    "```py\n",
    "when value (in uniqueVals) is '1', axis = 1(choosed feat.B):\n",
    "```\n",
    "![20230714161847.png](./pic/20230714161847.png)"
   ]
  },
  {
   "cell_type": "code",
   "execution_count": 12,
   "id": "873e2ca3",
   "metadata": {},
   "outputs": [
    {
     "data": {
      "text/plain": [
       "[[1, 'maybe'], [1, 'yes'], [0, 'no'], [0, 'no']]"
      ]
     },
     "execution_count": 12,
     "metadata": {},
     "output_type": "execute_result"
    }
   ],
   "source": [
    "splitDataSet(myDat, 1, 1)"
   ]
  },
  {
   "cell_type": "markdown",
   "id": "3a5cff42",
   "metadata": {},
   "source": [
    "```\n",
    "   feat.A      Label\n",
    "[\n",
    "    [1,\t      'maybe'],\n",
    "    [1,       'yes'],\n",
    "    [0,\t      'no'],\n",
    "    [0,\t      'no']\n",
    "]\n",
    "```\n",
    "\n",
    "后续计算特征值“0”，并比较两者的信息增益。很明显，特征值“1”的信息增益更高."
   ]
  },
  {
   "cell_type": "markdown",
   "id": "a722be3c",
   "metadata": {},
   "source": [
    "#### 3、编写代码构建决策树：\n",
    "得到原始数据集然后基于最好的属性值划分，由于特征值可能多于两个，因此可能存在大于两个分支的数据集划分，第一次划分后，数据将被向下传递到树分支的下一个节点，再这个节点熵，可以再次划分数据，因此可以采用递归原则处理数据集，**递归结束的条件是：程序遍历完所有划分数据集的属性，或每个分支下的所有实例都具有相同的分类（相同Label）**，如果是这样则得到一个叶子节点或终止块。任何到达叶子节点的数据必然属于叶子节点的分类。\n",
    "\n",
    "如果数据集已经处理了所有属性，但是类标签依然不是唯一的，此时我们需要决定如何定义该叶子节点，在这种情况下，我们通常会采用多数表决（和kNN相同的方法）决定该叶子节点的分类。\n",
    "\n",
    "majorityCnt函数使用分类名称的列表，然后创建键值为classList中唯一值的数据字典，**字典对象存储了classList中每个类标签出现的频率**，最后利用operator操作键值**排序字典**，并返回出现次数最多的分类："
   ]
  },
  {
   "cell_type": "code",
   "execution_count": 13,
   "id": "6a7dc723",
   "metadata": {},
   "outputs": [],
   "source": [
    "import operator\n",
    "\n",
    "# 统计classList中每个元素出现的次数\n",
    "def majorityCnt(classList):\n",
    "    classCount = {}\n",
    "    for vote in classList:\n",
    "        if vote not in classCount.keys():\n",
    "            classCount[vote] = 0\n",
    "        classCount[vote] += 1\n",
    "    sortedClassCount = sorted(classCount.iteritems(), key=operator.itemgetter(1), reverse=True)\n",
    "    return sortedClassCount[0][0]"
   ]
  },
  {
   "cell_type": "code",
   "execution_count": 22,
   "id": "afef2bbb",
   "metadata": {},
   "outputs": [],
   "source": [
    "# 创建树的函数代码\n",
    "def createTree(dataSet, Labels):\n",
    "    classList = [example[-1] for example in dataSet]\n",
    "    if classList.count(classList[0]) == len(classList):    #若类别完全相同则停止继续划分\n",
    "        return classList[0]\n",
    "    if len(dataSet[0]) == 1:\n",
    "        return majorityCnt(classList)\n",
    "    bestFeat = chooseBestFeatureToSplit(dataSet)\n",
    "    bestFeatLabel = labels[bestFeat]\n",
    "    myTree = {bestFeatLabel:{}}\n",
    "    del(labels[bestFeat])\n",
    "    featValues = [example[bestFeat] for example in dataSet]\n",
    "    uniqueVals = set(featValues)\n",
    "    for value in uniqueVals:\n",
    "        subLabels = labels[:]\n",
    "        myTree[bestFeatLabel][value] = createTree(splitDataSet(dataSet, bestFeat, value),subLabels)\n",
    "    return myTree"
   ]
  },
  {
   "cell_type": "markdown",
   "id": "0a62c9a9",
   "metadata": {},
   "source": [
    "myTree包含了很多代表树结构信息的嵌套字典："
   ]
  },
  {
   "cell_type": "code",
   "execution_count": 25,
   "id": "a095ff55",
   "metadata": {},
   "outputs": [
    {
     "name": "stdout",
     "output_type": "stream",
     "text": [
      "before dataset:\n",
      " [[1, 1, 'yes'], [1, 1, 'yes'], [1, 0, 'no'], [0, 1, 'no'], [0, 1, 'no']]\n",
      "after dataset:\n",
      " [[1, 'yes'], [1, 'yes'], [0, 'no'], [0, 'no']]\n",
      "before dataset:\n",
      " [[1, 'yes'], [1, 'yes'], [0, 'no']]\n",
      "after dataset:\n",
      " [['yes'], ['yes']]\n",
      "decision tree:\n",
      " {'no surfacing': {0: 'no', 1: {'filppers': {0: 'no', 1: 'yes'}}}}\n"
     ]
    }
   ],
   "source": [
    "myDat, labels = createDataSet()\n",
    "myTree = createTree(myDat, labels)\n",
    "print('decision tree:\\n',myTree)"
   ]
  },
  {
   "cell_type": "markdown",
   "id": "c34af33f",
   "metadata": {},
   "source": [
    "### 绘制注解树形图\n",
    "\n",
    "决策树的主要优点就是：直观、易于理解，所以要通过绘制（plot）发挥优势\n",
    "\n",
    "#### matploitlib注解\n",
    "mat提供了注解工具annotations，可以在数据图像上添加文本注解。\n",
    "\n",
    "实现绘制节点的功能，创建treePlotter.py新文件："
   ]
  },
  {
   "cell_type": "code",
   "execution_count": 1,
   "id": "74468954",
   "metadata": {},
   "outputs": [],
   "source": [
    "'''\n",
    "treePlotter.py\n",
    "'''\n",
    "import matplotlib.pyplot as plt\n",
    "\n",
    "decisionNode = dict(boxstyle='sawtooth', fc='0.8')\n",
    "leafNode = dict(boxstyle='round4', fc='0.8')\n",
    "arrow_args = dict(arrowstyle='<-')\n",
    "\n",
    "def plotNode(nodeTxt, centerPt, parentPt, nodeType):\n",
    "    createPlot.ax1.annotate(nodeTxt, xy=parentPt, xycoords='axes fraction', xytext=centerPt, textcoords='axes fraction', va='center', ha='center', bbox=nodeType, arrowprops=arrow_args)\n",
    "\n",
    "def createPlot():\n",
    "    fig = plt.figure(1, facecolor='white')\n",
    "    fig.clf()\n",
    "    createPlot.ax1 = plt.subplot(111, frameon=False)\n",
    "    plotNode('a decision node',(0.5,0.1),(0.1,0.5), decisionNode)\n",
    "    plotNode('a leaf node',(0.8,0.1),(0.3,0.8), leafNode)\n",
    "    plt.show()"
   ]
  },
  {
   "cell_type": "code",
   "execution_count": 2,
   "id": "06dd1d96",
   "metadata": {},
   "outputs": [
    {
     "data": {
      "image/png": "[encoded data removed]",
      "text/plain": [
       "<Figure size 640x480 with 1 Axes>"
      ]
     },
     "metadata": {},
     "output_type": "display_data"
    }
   ],
   "source": [
    "createPlot()"
   ]
  },
  {
   "cell_type": "markdown",
   "id": "0dd715dd",
   "metadata": {},
   "source": [
    "#### 构造注解树\n",
    "需要知道有多少个叶子节点，用于确定x轴的长度；需要知道树有多少层，确定y轴的高度；定义两个新函数getNumLeafs()和getTreeDepth()，获取叶子节点的数目和树的层数.\n",
    "\n",
    "**习惯在python中使用字典类型作为存储树信息的数据结构**，键代表：第一次划分数据集的属性，值代表：子结点的属性取值。getNumLeafs函数遍历整棵树，累计叶子节点的个数，并返回该数值；getTreeDepth函数计算遍历过程中遇到判断节点的个数，递归停机条件是叶子节点，一旦到达叶子节点，则从递归调用中返回，并将计算树深度的变量加1."
   ]
  },
  {
   "cell_type": "code",
   "execution_count": 17,
   "id": "0867ba0f",
   "metadata": {},
   "outputs": [],
   "source": [
    "def getNumLeafs(myTree):\n",
    "    numLeafs = 0\n",
    "    firstStr = list(myTree.keys())[0]\n",
    "    secondDict = myTree[firstStr]\n",
    "    for key in secondDict.keys():\n",
    "        # 判断子结点是否为字典类型：\n",
    "        if type(secondDict[key]).__name__ == 'dict':\n",
    "            # 递归调用：\n",
    "            numLeafs += getNumLeafs(secondDict[key])\n",
    "        else:\n",
    "            numLeafs += 1\n",
    "    return numLeafs\n",
    "    \n",
    "def getTreeDepth(myTree):\n",
    "    maxDepth = 0\n",
    "    firstStr = list(myTree.keys())[0]\n",
    "    secondDict = myTree[firstStr]\n",
    "    for key in secondDict.keys():\n",
    "        if type(secondDict[key]).__name__ == 'dict':\n",
    "            thisDepth = 1 + getTreeDepth(secondDict[key])\n",
    "        else:\n",
    "            thisDepth = 1\n",
    "        if thisDepth > maxDepth :\n",
    "            maxDepth = thisDepth\n",
    "    return maxDepth\n",
    "\n",
    "def retrieveTree(i):\n",
    "    listOfTrees = [{'no surfacing':{0:'no',1:{'flippers':{0:'no',1:'yes'}}}},{'no surfacing':{0:'no',1:{'flippers':{0:{'head':{0:'no',1:'yes'}},1:'no'}}}}]\n",
    "    return listOfTrees[i]"
   ]
  },
  {
   "cell_type": "code",
   "execution_count": 20,
   "id": "99b791db",
   "metadata": {},
   "outputs": [
    {
     "name": "stdout",
     "output_type": "stream",
     "text": [
      "3\n",
      "2\n"
     ]
    }
   ],
   "source": [
    "myTree = retrieveTree(0)\n",
    "print(getNumLeafs(myTree))\n",
    "print(getTreeDepth(myTree))"
   ]
  },
  {
   "cell_type": "code",
   "execution_count": 39,
   "id": "8d4563c2",
   "metadata": {},
   "outputs": [],
   "source": [
    "# plotTree\n",
    "def plotMidText(cntrPt, parentPt, txtString):\n",
    "    xMid = (parentPt[0] - cntrPt[0])/2.0 + cntrPt[0]\n",
    "    yMid = (parentPt[1] - cntrPt[1])/2.0 + cntrPt[1]\n",
    "    createPlot.ax1.text(xMid, yMid, txtString)\n",
    "    \n",
    "def plotTree(myTree, parentPt, nodeTxt):\n",
    "    numLeafs = getNumLeafs(myTree)\n",
    "    depth = getTreeDepth(myTree)\n",
    "    firstStr = list(myTree.keys())[0]\n",
    "    cntrPt = (plotTree.xOff + (1.0 + float(numLeafs))/2.0/plotTree.totalW, plotTree.yOff)\n",
    "    plotMidText(cntrPt, parentPt, nodeTxt)\n",
    "    plotNode(firstStr, cntrPt, parentPt, decisionNode)\n",
    "    secondDict = myTree[firstStr]\n",
    "    plotTree.yOff = plotTree.yOff -1.0 /plotTree.totalD\n",
    "    for key in secondDict.keys():\n",
    "        if type(secondDict[key]).__name__ == 'dict':\n",
    "            plotTree(secondDict[key], cntrPt, str(key))\n",
    "        else:\n",
    "            plotTree.xOff = plotTree.xOff + 1.0 / plotTree.totalW\n",
    "            plotNode(secondDict[key], (plotTree.xOff, plotTree.yOff), cntrPt, leafNode)\n",
    "            plotMidText((plotTree.xOff, plotTree.yOff),cntrPt, str(key))\n",
    "    plotTree.yOff = plotTree.yOff + 1.0 / plotTree.totalD\n",
    "\n",
    "def createPlot(inTree):\n",
    "    fig = plt.figure(1, facecolor='white')\n",
    "    fig.clf()\n",
    "    axprops = dict(xticks=[], yticks=[])\n",
    "    createPlot.ax1 = plt.subplot(111, frameon=False, **axprops)\n",
    "    plotTree.totalW = float(getNumLeafs(inTree))\n",
    "    plotTree.totalD = float(getTreeDepth(inTree))\n",
    "    plotTree.xOff = -0.5 / plotTree.totalW\n",
    "    plotTree.yOff = 1.0\n",
    "    plotTree(inTree, (0.5,1.0),'')\n",
    "    plt.show()"
   ]
  },
  {
   "cell_type": "code",
   "execution_count": 40,
   "id": "eda595ab",
   "metadata": {},
   "outputs": [
    {
     "data": {
      "image/png": "[encoded data removed]",
      "text/plain": [
       "<Figure size 640x480 with 1 Axes>"
      ]
     },
     "metadata": {},
     "output_type": "display_data"
    }
   ],
   "source": [
    "myTree = retrieveTree(0)\n",
    "createPlot(myTree)"
   ]
  },
  {
   "cell_type": "markdown",
   "id": "38f83fc2",
   "metadata": {},
   "source": [
    "### 测试和存储分类器\n",
    "\n",
    "\n",
    "虽然实现了使用决策树的分类器，但是每次使用分类器都必须重新构造决策树，所以为了保存“决策树”模型，需要了解如何在硬盘上存储决策树。\n",
    "\n",
    "#### 使用算法：决策树的存储\n",
    "使用python模块pickle将决策树转化为“序列化对象”，序列化对象可在磁盘上保存，并在需要的时候读取出来，任何对象都可以执行序列化操作，字典对象也不例外."
   ]
  },
  {
   "cell_type": "code",
   "execution_count": null,
   "id": "500c6986",
   "metadata": {},
   "outputs": [],
   "source": [
    "# 使用pickle模块存储决策树\n",
    "def storeTree(inputTree, filename):\n",
    "    import pickle\n",
    "    fw = open(filename, 'w')\n",
    "    pickle.dump(inputTree, fw)\n",
    "    fw.close()\n",
    "\n",
    "def grabTree(filename):\n",
    "    import pickle\n",
    "    fr = open(filename)\n",
    "    return pickle.load(fr)"
   ]
  }
 ],
 "metadata": {
  "kernelspec": {
   "display_name": "Python 3 (ipykernel)",
   "language": "python",
   "name": "python3"
  },
  "language_info": {
   "codemirror_mode": {
    "name": "ipython",
    "version": 3
   },
   "file_extension": ".py",
   "mimetype": "text/x-python",
   "name": "python",
   "nbconvert_exporter": "python",
   "pygments_lexer": "ipython3",
   "version": "3.10.9"
  }
 },
 "nbformat": 4,
 "nbformat_minor": 5
}
