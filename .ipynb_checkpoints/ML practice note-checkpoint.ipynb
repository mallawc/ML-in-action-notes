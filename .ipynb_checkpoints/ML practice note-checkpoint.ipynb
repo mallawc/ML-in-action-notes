{
 "cells": [
  {
   "cell_type": "markdown",
   "id": "a7950e19",
   "metadata": {},
   "source": [
    "## k-Nearest Neighbors Algorithm(kNN)\n",
    "\n",
    "**原理**：通过测量不同特征值之间距离的方法进行分类\n",
    "\n",
    "**优点**：精度高、对异常值不敏感、无数据输入假定\n",
    "\n",
    "**缺点**：计算复杂度高，空间复杂度高\n",
    "\n",
    "**适应数据**：数值型、标称型"
   ]
  },
  {
   "cell_type": "markdown",
   "id": "65909660",
   "metadata": {},
   "source": [
    "### 一、算法描述\n",
    "算法（K-近邻法）\n",
    "\n",
    "**输入**：训练数据集\n",
    "\n",
    "$$ T=\\{(x_1,y_1),(x_2,y_2),\\cdots,(x_N,y_N)\\} $$\n",
    "\n",
    "其中，$x_i\\in\\chi\\subseteq R^n$为实例的特征向量，$y_i\\in\\gamma=\\{c_1,c_2,\\cdots,c_K\\}$为实例的类别，$i=1,2,\\cdots.,N$；实例特征向量$x$\n",
    "\n",
    "**输出**：实例$x$所属的类$y$\n",
    "\n",
    "（1）根据给定的距离度量，在训练集$T$中找出与$x$最邻近的$k$个点，涵盖这$k$个点的$x$的邻域记作$N_k(x)$；\n",
    "\n",
    "（2）在$N_k(x)$中根据分类决策规则（如多数表决）决定$x$的类别$y$：\n",
    "\n",
    "$$y=\\underset{c_j}{argmax}\\sum_{x_i\\in N_k(x)}I(y_i=c_j),\\; i=1,2,\\cdots,N;\\; j=1,2,\\cdots,K \\;\\;\\;(\\star)$$\n",
    "\n",
    "式$(\\star)$中，$I$为指示函数，即当$y_i=c_j$时$I$为1，否则$I$为0.\n",
    "    $k$近邻法的特殊情况是$k=1$的情形，称为最近邻算法，对于输入的实例点（特征向量）$x$，最近邻法将训练数据集中与$x$最近邻点的类作为$x$的类.\n",
    "        \n",
    "根据算法可知，**k近邻主要的3个问题**：\n",
    "\n",
    "（1）度量距离的计算\n",
    "\n",
    "（2）计算出距离排序后选择k个点，k值如何确定\n",
    "\n",
    "（3）选出k个点后如何进行分类决策\n",
    "\n",
    "### 二、距离度量\n",
    "需要计算未知样本与各个训练样本的**距离**（实际上是反应两个实例点的相似程度）。\n",
    "\n",
    "设两个点$x_i=(x_i^{(1)},x_i^{(2)},\\cdots,x_i^{(n)}),x_j=(x_j^{(1)},x_j^{(2)},\\cdots,x_j^{(n)})$，n表示特征数，距离计算公式：\n",
    "\n",
    "$L_p(x_i,x_j)=(\\sum_{l=1}^{n}|x_i^{(l)}-x_j^{(l)}|^p)^\\frac{1}{p}$，其中$p\\geq1$\n",
    "\n",
    "①欧式距离或几何距离（p=2）\n",
    "\n",
    "$L_2(x_i,x_j)=(\\sum_{l=1}^{n}|x_i^{(l)}-x_j^{(l)}|^2)^\\frac{1}{2}$\n",
    "\n",
    "②曼哈顿距离（p=1）\n",
    "\n",
    "$L_1(x_i,x_j)=\\sum_{l=1}^{n}|x_i^{(l)}-x_j^{(l)}|$\n",
    "\n",
    "③坐标距离最大值（p=∞）\n",
    "\n",
    "$L_∞(x_i,x_j)=\\max_l |x_i^{(l)}-x_j^{(l)}|$\n",
    "\n",
    "### 三、k值的选择\n",
    "近似误差与估计误差的区别：\n",
    "```\n",
    "近似误差可以理解为对训练集的训练误差，它只能体现对训练数据的拟合表现；\n",
    "估计误差可以理解为对测试集的测试误差，它可以体现对测试数据的拟合表现，也就是体现出泛化能力，因此对模型要求是估计误差越小越好。\n",
    "```\n",
    "如果k值过大，那么近似误差会增大，可能会减少估计误差单对预测也没什么效果。实际应用中，k值一般取一个比较小的数值，通过交叉验证法来选取最优的k值。\n",
    "\n",
    "### 四、分类决策规则\n",
    "一般是多数表决"
   ]
  },
  {
   "cell_type": "markdown",
   "id": "9b346118",
   "metadata": {},
   "source": [
    "### 五、代码实现\n",
    "classify0函数的功能是使用k-近邻算法将每组数据划分到某个类中，伪代码如下：\n",
    "\n",
    "对未知类别属性的数据集中的每个点依次执行以下操作：\n",
    "\n",
    "（1）计算已知类别数据集中的点与当前点之间的距离；\n",
    "\n",
    "（2）按照距离递增次序排序；\n",
    "\n",
    "（3）选取与当前点距离最小的k个点；\n",
    "\n",
    "（4）确定前k个点所在类别的出现频率；\n",
    "\n",
    "（5）返回前k个点出现频率最高的类别作为当前点的预测分类。"
   ]
  },
  {
   "cell_type": "code",
   "execution_count": 2,
   "id": "ef1bf09f",
   "metadata": {},
   "outputs": [],
   "source": [
    "import numpy as np\n",
    "import operator"
   ]
  },
  {
   "cell_type": "markdown",
   "id": "d8f2a48e",
   "metadata": {},
   "source": [
    "classify0函数有4个输入参数：用于分类的输入向量inX，输入的训练样本dataSet，标签向量labels，用于选择最近邻的数目参数k。其中标签向量的元素数目和矩阵dataSet的行数相同，"
   ]
  },
  {
   "cell_type": "code",
   "execution_count": 3,
   "id": "325802e6",
   "metadata": {},
   "outputs": [],
   "source": [
    "\"\"\"\n",
    "Parameters:\n",
    "    inX - 用于分类的数据(测试集)\n",
    "    dataSet - 用于训练的数据(训练集)\n",
    "    labes - 分类标签\n",
    "    k - kNN算法参数,选择距离最小的k个点\n",
    "Returns:\n",
    "    sortedClassCount[0][0] - 分类结果\n",
    "\"\"\"\n",
    "# 函数说明:kNN算法,分类器\n",
    "def classify0(inX, dataSet, labels, k):\n",
    "    # distance caculation:\n",
    "    dataSetSize = dataSet.shape[0]\n",
    "    diffMat = np.tile(inX, (dataSetSize, 1)) - dataSet\n",
    "    sqDiffMat = diffMat**2\n",
    "    sqDistances = sqDiffMat.sum(axis=1)\n",
    "    distances = sqDistances**0.5\n",
    "    \n",
    "    # k nearest neighbour:\n",
    "    sortedDistIndices = distances.argsort()\n",
    "    classCount = {}\n",
    "    for i in range(k):\n",
    "        voteIlabel = labels[sortedDistIndices[i]]\n",
    "        classCount[voteIlabel] = classCount.get(voteIlabel,0) + 1\n",
    "        \n",
    "    # Descending sort:\n",
    "    sortedClassCount = sorted(classCount.items(),key=operator.itemgetter(1),reverse=True)\n",
    "    return sortedClassCount[0][0]"
   ]
  },
  {
   "cell_type": "code",
   "execution_count": 4,
   "id": "fd883e0e",
   "metadata": {},
   "outputs": [],
   "source": [
    "def createDataSet():\n",
    "    group = array([[1.0,1,1],[1.0,1.0],[0,0],[0,0.1]])\n",
    "    labels = ['A','A','B','B']\n",
    "    return group, labels"
   ]
  },
  {
   "cell_type": "markdown",
   "id": "be597ae4",
   "metadata": {},
   "source": [
    "### 六、代码分解\n",
    "numpy的函数shape返回dataSet的行数，即dataSetSize："
   ]
  },
  {
   "cell_type": "code",
   "execution_count": 5,
   "id": "ba0f477c",
   "metadata": {},
   "outputs": [],
   "source": [
    "# 测试集\n",
    "inX = [101,20]\n",
    "labels = ['a','a','a','b','b','b']"
   ]
  },
  {
   "cell_type": "code",
   "execution_count": 6,
   "id": "8135a968",
   "metadata": {},
   "outputs": [
    {
     "name": "stdout",
     "output_type": "stream",
     "text": [
      "6\n"
     ]
    }
   ],
   "source": [
    "# 6组二维特征：[3,104],[2,100],[1,81],[101,10],[99,5],[98,2]\n",
    "dataSet = np.array([[3,104],[2,100],[1,81],[101,10],[99,5],[98,2]])\n",
    "dataSetSize = dataSet.shape[0]\n",
    "print(dataSetSize)"
   ]
  },
  {
   "cell_type": "markdown",
   "id": "b4b9c01a",
   "metadata": {},
   "source": [
    "在列向量方向上重复inX共1次(横向)，行向量方向上重复inX共dataSetSize次(纵向)，numpy函数tile将数组inX（测试集），按照**二维元组：(dataSetSize,1)** 平铺开来（对应纵铺个数、横铺个数），方便后续运算："
   ]
  },
  {
   "cell_type": "code",
   "execution_count": 7,
   "id": "aea1be26",
   "metadata": {},
   "outputs": [
    {
     "name": "stdout",
     "output_type": "stream",
     "text": [
      "测试集矩阵：\n",
      "\n",
      "[[101  20]\n",
      " [101  20]\n",
      " [101  20]\n",
      " [101  20]\n",
      " [101  20]\n",
      " [101  20]]\n",
      "训练集矩阵：\n",
      "\n",
      "[[  3 104]\n",
      " [  2 100]\n",
      " [  1  81]\n",
      " [101  10]\n",
      " [ 99   5]\n",
      " [ 98   2]]\n"
     ]
    }
   ],
   "source": [
    "newInx = np.tile(inX, (dataSetSize,1))\n",
    "print(\"测试集矩阵：\\n\")\n",
    "print(newInx)\n",
    "print(\"训练集矩阵：\\n\")\n",
    "print(dataSet)"
   ]
  },
  {
   "cell_type": "markdown",
   "id": "4ce10b76",
   "metadata": {},
   "source": [
    "在欧式距离公式中计算两个特征向量的距离如下：\n",
    "\n",
    "$$\\sqrt{(x_{A0}-x_{B0})^2+(x_{A1}-x_{B1})^2+\\cdots+(x_{Ai}-x_{Bi})^2}$$ \n",
    "\n",
    "代码变量**diffMat**表示由$(x_{An}-x_{Bn})$项构成的矩阵.\n",
    "\n",
    "\\*(其中$x$表示特征值，$x_{Ai}$表示特征向量A中的第i个特征值,向量B同理.**实例中i=1**)"
   ]
  },
  {
   "cell_type": "code",
   "execution_count": 8,
   "id": "45a206f3",
   "metadata": {},
   "outputs": [
    {
     "name": "stdout",
     "output_type": "stream",
     "text": [
      "[[ 98 -84]\n",
      " [ 99 -80]\n",
      " [100 -61]\n",
      " [  0  10]\n",
      " [  2  15]\n",
      " [  3  18]]\n"
     ]
    }
   ],
   "source": [
    "diffMat = np.tile(inX,(dataSetSize, 1)) - dataSet\n",
    "print(diffMat)"
   ]
  },
  {
   "cell_type": "markdown",
   "id": "21f8bd33",
   "metadata": {},
   "source": [
    "sqDiffMat即$(x_{A0}-x_{B0})^2$、$(x_{A1}-x_{B1})^2$项组成的**“二维特征相减后平方”**矩阵："
   ]
  },
  {
   "cell_type": "code",
   "execution_count": 9,
   "id": "d4a8f67b",
   "metadata": {},
   "outputs": [
    {
     "name": "stdout",
     "output_type": "stream",
     "text": [
      "[[ 9604  7056]\n",
      " [ 9801  6400]\n",
      " [10000  3721]\n",
      " [    0   100]\n",
      " [    4   225]\n",
      " [    9   324]]\n"
     ]
    }
   ],
   "source": [
    "sqDiffMat = diffMat**2\n",
    "print(sqDiffMat)"
   ]
  },
  {
   "cell_type": "markdown",
   "id": "bf852829",
   "metadata": {},
   "source": [
    "将所有元素（特征值）相加，sum(0)列相加，sum(1)行相加，然后开方，公式表示：\n",
    "$$\\sqrt{\\sum_{i=0}^{n}(x_{Ai}-x_{Bi})^2}=\\sqrt{(x_{A0}-x_{B0})^2+(x_{A1}-x_{B1})^2+\\cdots+(x_{Ai}-x_{Bi})^2}$$"
   ]
  },
  {
   "cell_type": "code",
   "execution_count": 11,
   "id": "0e5891ce",
   "metadata": {},
   "outputs": [
    {
     "name": "stdout",
     "output_type": "stream",
     "text": [
      "[  841339904    20359913 -1182523783  1410065408 -1596800363  1587483805]\n"
     ]
    }
   ],
   "source": [
    "sqDistances = sqDiffMat.sum(axis=1)\n",
    "distances = sqDistances**0x5\n",
    "print(distances)"
   ]
  },
  {
   "cell_type": "markdown",
   "id": "4a2bb94e",
   "metadata": {},
   "source": [
    "使用numpy函数argsort返回distances数组值从小到大排列的索引:"
   ]
  },
  {
   "cell_type": "code",
   "execution_count": 13,
   "id": "08a53cd9",
   "metadata": {},
   "outputs": [
    {
     "name": "stdout",
     "output_type": "stream",
     "text": [
      "[4 2 1 0 3 5]\n"
     ]
    }
   ],
   "source": [
    "sortDistIndices = distances.argsort()\n",
    "print(sortDistIndices)"
   ]
  },
  {
   "cell_type": "markdown",
   "id": "24161a2b",
   "metadata": {},
   "source": [
    "为了方便确定x最邻近的k个点，需要将上面计算得到的距离数组逆序排列："
   ]
  },
  {
   "cell_type": "code",
   "execution_count": 32,
   "id": "af1ee31a",
   "metadata": {},
   "outputs": [
    {
     "name": "stdout",
     "output_type": "stream",
     "text": [
      "a\n"
     ]
    }
   ],
   "source": [
    "classCount = {}\n",
    "k = 3\n",
    "for i in range(k):\n",
    "    voteIlabel = labels[sortDistIndices[i]]\n",
    "    classCount[voteIlabel] = classCount.get(voteIlabel,0) + 1\n",
    "sortedClassCount = sorted(classCount.items(),key=operator.itemgetter(1),reverse=True)\n",
    "print(sortedClassCount[0][0])"
   ]
  }
 ],
 "metadata": {
  "kernelspec": {
   "display_name": "Python 3 (ipykernel)",
   "language": "python",
   "name": "python3"
  },
  "language_info": {
   "codemirror_mode": {
    "name": "ipython",
    "version": 3
   },
   "file_extension": ".py",
   "mimetype": "text/x-python",
   "name": "python",
   "nbconvert_exporter": "python",
   "pygments_lexer": "ipython3",
   "version": "3.10.9"
  }
 },
 "nbformat": 4,
 "nbformat_minor": 5
}
