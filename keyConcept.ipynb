{
 "cells": [
  {
   "cell_type": "markdown",
   "id": "0ec8dedf",
   "metadata": {},
   "source": [
    "### 重要概念\n",
    "**属性**：（feature）或特征、分类属性；\n",
    "\n",
    "**特征值**：（feature values）属性的取值；\n",
    "\n",
    "**类别标记**：（label）又称“标签”，判定结果；\n",
    "\n",
    "**模型**：（model）从数据中产生的能帮助处理未来数据的东西，适用于全局的称为模型，适用于局部的称为模式（pattern）；\n",
    "\n",
    "**机器学习**：一门关于学习算法（learning algorithm）的设计、分析和应用的学科\n",
    "\n",
    "**泛化误差**：\n",
    "\n",
    "**训练误差**：\n",
    "\n",
    "**过拟合（over-fitting）**：\n",
    "\n",
    "**欠拟合（under-fitting）**：\n",
    "\n",
    "学习一个ML算法都要思考：**这个算法如何缓解“过拟合”？**，如此才能直到什么时候用什么模型解决问题."
   ]
  }
 ],
 "metadata": {
  "kernelspec": {
   "display_name": "Python 3 (ipykernel)",
   "language": "python",
   "name": "python3"
  },
  "language_info": {
   "codemirror_mode": {
    "name": "ipython",
    "version": 3
   },
   "file_extension": ".py",
   "mimetype": "text/x-python",
   "name": "python",
   "nbconvert_exporter": "python",
   "pygments_lexer": "ipython3",
   "version": "3.10.9"
  }
 },
 "nbformat": 4,
 "nbformat_minor": 5
}
