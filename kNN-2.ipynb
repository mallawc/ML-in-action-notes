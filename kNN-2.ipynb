{
 "cells": [
  {
   "attachments": {},
   "cell_type": "markdown",
   "id": "cb81de62",
   "metadata": {},
   "source": [
    "## 实例：使用kNN算法改进dating website的配对效果\n",
    "\n",
    "kNN-1中已解决了构造分类器将匹配对象划分到确切的分类中。在该实例中，收集的数据是：文本文件。\n",
    "\n",
    "特征①：每年获得的飞行常客里程数\n",
    "\n",
    "特征②：玩视频游戏所耗时间百分比\n",
    "\n",
    "特征③：每周消耗的icecream公升数\n",
    "\n",
    "### 使用k-近邻法开发ML学习程序的流程\n",
    "1、**收集数据**：提供文本文件\n",
    "\n",
    "2、**准备数据**：使用python解析文本文件（确保数据符合计算机处理格式）\n",
    "\n",
    "3、**分析数据**：使用matplotlib画二维扩散图\n",
    "\n",
    "4、**训练算法**：此步骤不适用于k-近邻法（？？）\n",
    "\n",
    "5、**测试算法**：使用提供的部分数据作为测试样本\n",
    "\n",
    "6、**使用算法**：产生简单的命令行程序，然后可以输入一些特征数据以判断对方是否为自己喜欢的类型\n",
    "\n",
    "\n",
    "### 数据处理\n",
    "输入数据前，需要将raw数据转化为分类器可处理的格式，如训练样本矩阵、分类标签向量。具体是在kNN实现代码上创建新函数**file2matrix**的函数，以此来处理输入格式。该函数的输入为文件名字符串，输出为训练样本矩阵和分类标签向量。"
   ]
  },
  {
   "cell_type": "code",
   "execution_count": 3,
   "id": "fae9ab20",
   "metadata": {},
   "outputs": [],
   "source": [
    "import numpy as np\n",
    "import operator"
   ]
  },
  {
   "cell_type": "markdown",
   "id": "c732b0f8",
   "metadata": {},
   "source": [
    "#### kNN："
   ]
  },
  {
   "cell_type": "code",
   "execution_count": null,
   "id": "566f679e",
   "metadata": {},
   "outputs": [],
   "source": [
    "\n",
    "\"\"\"\n",
    "Parameters:\n",
    "    inX - 用于分类的数据(测试集)\n",
    "    dataSet - 用于训练的数据(训练集)\n",
    "    labes - 分类标签\n",
    "    k - kNN算法参数,选择距离最小的k个点\n",
    "Returns:\n",
    "    sortedClassCount[0][0] - 分类结果\n",
    "\"\"\"\n",
    "# 函数说明:kNN算法,分类器\n",
    "def classify0(inX, dataSet, labels, k):\n",
    "    # distance caculation:\n",
    "    dataSetSize = dataSet.shape[0]\n",
    "    diffMat = np.tile(inX, (dataSetSize, 1)) - dataSet\n",
    "    sqDiffMat = diffMat**2\n",
    "    sqDistances = sqDiffMat.sum(axis=1)\n",
    "    distances = sqDistances**0.5\n",
    "    \n",
    "    # k nearest neighbour:\n",
    "    sortedDistIndices = distances.argsort()\n",
    "    classCount = {}\n",
    "    for i in range(k):\n",
    "        voteIlabel = labels[sortedDistIndices[i]]\n",
    "        classCount[voteIlabel] = classCount.get(voteIlabel,0) + 1\n",
    "        \n",
    "    # Descending sort:\n",
    "    sortedClassCount = sorted(classCount.items(),key=operator.itemgetter(1),reverse=True)\n",
    "    return sortedClassCount[0][0]"
   ]
  },
  {
   "cell_type": "markdown",
   "id": "b12bc4a0",
   "metadata": {},
   "source": [
    "#### 准备数据：\n",
    "将文本文件解析为**特征矩阵**、**分类标签向量**"
   ]
  },
  {
   "cell_type": "code",
   "execution_count": 4,
   "id": "c0fcacf0",
   "metadata": {},
   "outputs": [],
   "source": [
    "def file2matrix(filename):\n",
    "    fr = open(filename)\n",
    "    arrayOLines = fr.readlines()\n",
    "    numberOfLines = len(arrayOLines)\n",
    "    returnMat = np.zeros((numberOfLines,3))\n",
    "    classLabelVector = []\n",
    "    index = 0\n",
    "    for line in arrayOLines:\n",
    "        line = line.strip()\n",
    "        listFromLine = line.split('\\t')\n",
    "        returnMat[index,:] = listFromLine[0:3]\n",
    "        if listFromLine[-1] == 'didntLike':\n",
    "            classLabelVector.append(1)\n",
    "        elif listFromLine[-1] == 'smallDoses':\n",
    "            classLabelVector.append(2)\n",
    "        elif listFromLine[-1] == 'largeDoses':\n",
    "            classLabelVector.append(3)\n",
    "        index += 1\n",
    "    return returnMat, classLabelVector"
   ]
  },
  {
   "cell_type": "code",
   "execution_count": 5,
   "id": "eb6a0769",
   "metadata": {},
   "outputs": [
    {
     "data": {
      "text/plain": [
       "array([[4.0920000e+04, 8.3269760e+00, 9.5395200e-01],\n",
       "       [1.4488000e+04, 7.1534690e+00, 1.6739040e+00],\n",
       "       [2.6052000e+04, 1.4418710e+00, 8.0512400e-01],\n",
       "       ...,\n",
       "       [2.6575000e+04, 1.0650102e+01, 8.6662700e-01],\n",
       "       [4.8111000e+04, 9.1345280e+00, 7.2804500e-01],\n",
       "       [4.3757000e+04, 7.8826010e+00, 1.3324460e+00]])"
      ]
     },
     "execution_count": 5,
     "metadata": {},
     "output_type": "execute_result"
    }
   ],
   "source": [
    "datingDataMat, datingLabels = file2matrix('.\\dataSet\\datingTestSet.txt')\n",
    "datingDataMat"
   ]
  },
  {
   "cell_type": "code",
   "execution_count": 6,
   "id": "4ad85fe8",
   "metadata": {},
   "outputs": [
    {
     "data": {
      "text/plain": [
       "[3, 2, 1, 1, 1, 1, 3, 3, 1, 3, 1, 1, 2, 1, 1, 1, 1, 1, 2, 3, 2, 1, 2, 3, 2]"
      ]
     },
     "execution_count": 6,
     "metadata": {},
     "output_type": "execute_result"
    }
   ],
   "source": [
    "datingLabels[0:25]"
   ]
  },
  {
   "cell_type": "code",
   "execution_count": null,
   "id": "355cc066",
   "metadata": {},
   "outputs": [],
   "source": [
    "import matplotlib\n",
    "import matplotlib.pyplot as plt\n",
    "fig = plt.figure()\n",
    "ax = fig.add_subplot(111)\n",
    "ax.scatter(datingDataMat[:-1], datingDataMat[:2])\n",
    "plt.show()"
   ]
  }
 ],
 "metadata": {
  "kernelspec": {
   "display_name": "Python 3 (ipykernel)",
   "language": "python",
   "name": "python3"
  },
  "language_info": {
   "codemirror_mode": {
    "name": "ipython",
    "version": 3
   },
   "file_extension": ".py",
   "mimetype": "text/x-python",
   "name": "python",
   "nbconvert_exporter": "python",
   "pygments_lexer": "ipython3",
   "version": "3.10.9"
  }
 },
 "nbformat": 4,
 "nbformat_minor": 5
}
