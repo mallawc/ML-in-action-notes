{
 "cells": [
  {
   "cell_type": "markdown",
   "id": "3bb79bdb",
   "metadata": {},
   "source": [
    "# Navie Bayes\n",
    "\n",
    "朴素贝叶斯分类器。“朴素”：整个形式化过程只做最原始简单的假设.\n",
    "\n",
    "首先构造一个最简单的概率分类器，然后给出一些假设来学习朴素贝叶斯分类器，借助python将文档切分成“词向量”，然后利用“词向量”对文档进行分类。\n",
    "\n",
    "## 基于Bayes决策理论的分类方法\n",
    "**优点**：在数据较少的情况下仍然有效，可以处理多类别问题\n",
    "\n",
    "**缺点**：对于输入数据的准备方式较为敏感（？）\n",
    "\n",
    "**适用数据类型**：标称型\n",
    "\n",
    "## 条件概率\n",
    "\n",
    "贝叶斯准则告诉我们如何交换条件概率中的条件和结果，即如果已知P(X|C)，要求P(C|X)，那么可以使用下面的计算方法：\n",
    "\n",
    "$$p(c|x)=\\frac{p(x|c)p(c)}{p(x)}$$\n",
    "\n",
    "\n",
    "## 使用条件概率来分类\n"
   ]
  }
 ],
 "metadata": {
  "kernelspec": {
   "display_name": "Python 3 (ipykernel)",
   "language": "python",
   "name": "python3"
  },
  "language_info": {
   "codemirror_mode": {
    "name": "ipython",
    "version": 3
   },
   "file_extension": ".py",
   "mimetype": "text/x-python",
   "name": "python",
   "nbconvert_exporter": "python",
   "pygments_lexer": "ipython3",
   "version": "3.10.9"
  }
 },
 "nbformat": 4,
 "nbformat_minor": 5
}
